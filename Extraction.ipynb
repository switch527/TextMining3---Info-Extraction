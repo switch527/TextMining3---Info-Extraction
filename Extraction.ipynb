{
 "cells": [
  {
   "cell_type": "code",
   "execution_count": null,
   "metadata": {
    "collapsed": true
   },
   "outputs": [],
   "source": [
    "#import statements\n",
    "from nltk.tokenize import word_tokenize as wordTok, sent_tokenize as sentTok\n",
    "from nltk.tag import pos_tag\n",
    "from nltk import ne_chunk_sents as chunk\n",
    "import nltk"
   ]
  },
  {
   "cell_type": "code",
   "execution_count": null,
   "metadata": {
    "collapsed": true
   },
   "outputs": [],
   "source": [
    "#function to remove problem characters\n",
    "def removeNonAscii(text):\n",
    "    return ''.join(i for i in text if ord(i)<128)"
   ]
  },
  {
   "cell_type": "code",
   "execution_count": null,
   "metadata": {
    "collapsed": true
   },
   "outputs": [],
   "source": [
    "#open, read, remove problem characters, remove punctuation for tokenization\n",
    "teslaSummary = removeNonAscii(open(\n",
    "        \"D:\\Google Drive\\Grad School\\UIC\\MS-MIS\\IDS566\\Assignment4\\TeslaSummary1.txt\", \"r\").read())\n",
    "NYTimes = removeNonAscii(open(\n",
    "        \"D:\\Google Drive\\Grad School\\UIC\\MS-MIS\\IDS566\\Assignment4\\NYTimes.txt\", \"r\").read())\n",
    "ESPN = removeNonAscii(open(\n",
    "        \"D:\\Google Drive\\Grad School\\UIC\\MS-MIS\\IDS566\\Assignment4\\ESPN.txt\", \"r\").read())\n",
    "#print teslaSummary"
   ]
  },
  {
   "cell_type": "code",
   "execution_count": null,
   "metadata": {
    "collapsed": true
   },
   "outputs": [],
   "source": [
    "#apply sentence tokenization\n",
    "teslaSummarySentTok = sentTok(teslaSummary)\n",
    "NYTimesSentTok = sentTok(NYTimes)\n",
    "ESPNSentTok = sentTok(ESPN)\n",
    "#print teslaSummarySentTok"
   ]
  },
  {
   "cell_type": "code",
   "execution_count": null,
   "metadata": {
    "collapsed": true
   },
   "outputs": [],
   "source": [
    "#tokenize the the sentences\n",
    "teslaSummaryTok = [wordTok(sentence) for sentence in teslaSummarySentTok]\n",
    "NYTimesTok = [wordTok(sentence) for sentence in teslaSummarySentTok]\n",
    "ESPNTok = [wordTok(sentence) for sentence in teslaSummarySentTok]\n",
    "#print teslaSummaryTok"
   ]
  },
  {
   "cell_type": "code",
   "execution_count": null,
   "metadata": {
    "collapsed": true
   },
   "outputs": [],
   "source": [
    "#tag the tokens\n",
    "teslaSummaryPOS = [pos_tag(sentence) for sentence in teslaSummaryTok]\n",
    "NYTimesPOS = [pos_tag(sentence) for sentence in NYTimesTok]\n",
    "ESPNPOS = [pos_tag(sentence) for sentence in ESPNTok]\n",
    "#print teslaSummaryPOS"
   ]
  },
  {
   "cell_type": "code",
   "execution_count": null,
   "metadata": {
    "collapsed": true
   },
   "outputs": [],
   "source": [
    "def extract_tags(t):\n",
    "    entity = []\n",
    "    # extract tags from each item in chunked_sentences\n",
    "    for child in t:\n",
    "        if type(child) == nltk.tree.Tree:  # check type to see if it is a tree\n",
    "            entity.extend(extract_tags(child))\n",
    "        else:\n",
    "            entity.append(child)\n",
    "    return entity"
   ]
  },
  {
   "cell_type": "code",
   "execution_count": null,
   "metadata": {
    "collapsed": true
   },
   "outputs": [],
   "source": [
    "#chunk the tagged sentences\n",
    "teslaSummaryChunk = chunk(teslaSummaryPOS, binary=True)\n",
    "NYTimesChunk = chunk(NYTimesPOS, binary=True)\n",
    "ESPNChunk = chunk(ESPNPOS, binary=True)"
   ]
  },
  {
   "cell_type": "code",
   "execution_count": null,
   "metadata": {
    "collapsed": true
   },
   "outputs": [],
   "source": [
    "\n",
    "teslaSummaryChunk = extract_tags(teslaSummaryChunk)\n",
    "NYTimesChunk = extract_tags(NYTimesChunk)\n",
    "ESPNChunk = extract_tags(ESPNChunk)\n",
    "#print teslaSummaryChunk"
   ]
  },
  {
   "cell_type": "code",
   "execution_count": null,
   "metadata": {
    "collapsed": true
   },
   "outputs": [],
   "source": []
  }
 ],
 "metadata": {
  "kernelspec": {
   "display_name": "Python 2",
   "language": "python",
   "name": "python2"
  },
  "language_info": {
   "codemirror_mode": {
    "name": "ipython",
    "version": 2
   },
   "file_extension": ".py",
   "mimetype": "text/x-python",
   "name": "python",
   "nbconvert_exporter": "python",
   "pygments_lexer": "ipython2",
   "version": "2.7.11"
  }
 },
 "nbformat": 4,
 "nbformat_minor": 0
}
